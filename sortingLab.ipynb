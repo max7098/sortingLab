{
 "metadata": {
  "name": "",
  "signature": "sha256:b9e75f80871395f6f5b25cb9af3499a3ab5c8e309b5f333b167cfce1fce8ec8d"
 },
 "nbformat": 3,
 "nbformat_minor": 0,
 "worksheets": [
  {
   "cells": [
    {
     "cell_type": "heading",
     "level": 1,
     "metadata": {},
     "source": [
      "Sorting"
     ]
    },
    {
     "cell_type": "heading",
     "level": 2,
     "metadata": {},
     "source": [
      "Introduction"
     ]
    },
    {
     "cell_type": "markdown",
     "metadata": {},
     "source": [
      "In this lab we will cover diffrent ways to sort lists. There are a couple of commonly used algorithms that have diffrent benefits in different scenarios. Today we will start with three sorting algorithms."
     ]
    },
    {
     "cell_type": "heading",
     "level": 2,
     "metadata": {},
     "source": [
      "Step 0"
     ]
    },
    {
     "cell_type": "markdown",
     "metadata": {},
     "source": [
      "First see which sorting algorithm comes the most naturaly to you. Bellow is a list of unsorted numbers. Write the numbers in the sorted form."
     ]
    },
    {
     "cell_type": "markdown",
     "metadata": {},
     "source": [
      "8 4 5 7 2 7 3 6 9 1"
     ]
    },
    {
     "cell_type": "code",
     "collapsed": false,
     "input": [],
     "language": "python",
     "metadata": {},
     "outputs": []
    },
    {
     "cell_type": "markdown",
     "metadata": {},
     "source": [
      "How did you do it? Did you look for the smallest item, place it at the beginning and then continue finding the next smallest item (Selection Sort)? Did you consider the first item of the list to be sorted, then place the next item in the spot where the first item mixed with the next item would continue to be sorted and continue this process until all items in the list were added (Insertion Sort)? Did you look for consecutive sequences of two items in the list that were out of order and swap them if they were out of order (Bubble Sort)? There are a couple more useful sorting algorithms but today we will focus on these three. If you used one of these go back and try the other two approaches. If you used something completely diffrent then try all three and note how they compare."
     ]
    },
    {
     "cell_type": "markdown",
     "metadata": {},
     "source": [
      "If you are confused about Selection Sort watch this video for guidence: https://www.youtube.com/watch?v=Ns4TPTC8whw"
     ]
    },
    {
     "cell_type": "markdown",
     "metadata": {},
     "source": [
      "If you are confused about Insertion Sort watch this video for guidence: https://www.youtube.com/watch?v=ROalU379l3U"
     ]
    },
    {
     "cell_type": "markdown",
     "metadata": {},
     "source": [
      "If you are confused about Bubble Sort watch this video for guidence: https://www.youtube.com/watch?v=lyZQPjUT5B4"
     ]
    },
    {
     "cell_type": "heading",
     "level": 2,
     "metadata": {},
     "source": [
      "Step 1"
     ]
    },
    {
     "cell_type": "markdown",
     "metadata": {},
     "source": [
      "Now it is time to start coding these algorithms!!! Fill in the implementation for the following three algorithms bellow. Try and mimic how you sorted these numbers by hand."
     ]
    },
    {
     "cell_type": "heading",
     "level": 5,
     "metadata": {},
     "source": [
      "Selection Sort"
     ]
    },
    {
     "cell_type": "code",
     "collapsed": false,
     "input": [
      "def selectionSort(L):\n",
      "    '''\n",
      "    Fill in the implementation for selection sort here. Your program should take in a unsorted list of elements\n",
      "    and return a sorted list containing the same elements.\n",
      "    '''"
     ],
     "language": "python",
     "metadata": {},
     "outputs": []
    },
    {
     "cell_type": "heading",
     "level": 5,
     "metadata": {},
     "source": [
      "Insertion Sort"
     ]
    },
    {
     "cell_type": "code",
     "collapsed": false,
     "input": [
      "def insertionSort(L):\n",
      "    '''\n",
      "    Fill in the implementation for selection sort here. Your program should take in a unsorted list of elements\n",
      "    and return a sorted list containing the same elements.\n",
      "    '''"
     ],
     "language": "python",
     "metadata": {},
     "outputs": []
    },
    {
     "cell_type": "heading",
     "level": 5,
     "metadata": {},
     "source": [
      "Bubble Sort"
     ]
    },
    {
     "cell_type": "code",
     "collapsed": false,
     "input": [
      "def bubbleSort(L):\n",
      "    '''\n",
      "    Fill in the implementation for selection sort here. Your program should take in a unsorted list of elements\n",
      "    and return a sorted list containing the same elements.\n",
      "    '''"
     ],
     "language": "python",
     "metadata": {},
     "outputs": []
    },
    {
     "cell_type": "code",
     "collapsed": false,
     "input": [
      "print selectionSort([8,4,5,7,2,7,3,6,9,1])\n",
      "print insertionSort([8,4,5,7,2,7,3,6,9,1])\n",
      "print bubbleSort([8,4,5,7,2,7,3,6,9,1])"
     ],
     "language": "python",
     "metadata": {},
     "outputs": []
    },
    {
     "cell_type": "heading",
     "level": 2,
     "metadata": {},
     "source": [
      "Step 2"
     ]
    },
    {
     "cell_type": "markdown",
     "metadata": {},
     "source": [
      "Now its time to see how fast these algorithms are. Genereally the performance of a sorting algorithm is measured by the number of comparisons it needs to make to finish sorting. This often is a good indicator of the time complexity. Modify your previous programs to return the number of times your program used the > or < opperators instead of the sorted list."
     ]
    },
    {
     "cell_type": "heading",
     "level": 5,
     "metadata": {},
     "source": [
      "Selection Sort"
     ]
    },
    {
     "cell_type": "code",
     "collapsed": false,
     "input": [
      "def selectionSort(L):\n",
      "    '''\n",
      "    Fill in the implementation for selection sort here. Your program should take in a unsorted list of elements\n",
      "    and return the number of comparisons your program took to sort the list.\n",
      "    '''"
     ],
     "language": "python",
     "metadata": {},
     "outputs": []
    },
    {
     "cell_type": "heading",
     "level": 5,
     "metadata": {},
     "source": [
      "Insertion Sort"
     ]
    },
    {
     "cell_type": "code",
     "collapsed": false,
     "input": [
      "def insertionSort(L):\n",
      "    '''\n",
      "    Fill in the implementation for selection sort here. Your program should take in a unsorted list of elements\n",
      "    and return the number of comparisons your program took to sort the list.\n",
      "    '''"
     ],
     "language": "python",
     "metadata": {},
     "outputs": []
    },
    {
     "cell_type": "heading",
     "level": 5,
     "metadata": {},
     "source": [
      "Bubble Sort"
     ]
    },
    {
     "cell_type": "code",
     "collapsed": false,
     "input": [
      "def bubbleSort(L):\n",
      "    '''\n",
      "    Fill in the implementation for selection sort here. Your program should take in a unsorted list of elements\n",
      "    and return the number of comparisons your program took to sort the list.\n",
      "    '''"
     ],
     "language": "python",
     "metadata": {},
     "outputs": []
    },
    {
     "cell_type": "code",
     "collapsed": false,
     "input": [
      "print selectionSort([8,4,5,7,2,7,3,6,9,1])\n",
      "print insertionSort([8,4,5,7,2,7,3,6,9,1])\n",
      "print bubbleSort([8,4,5,7,2,7,3,6,9,1])"
     ],
     "language": "python",
     "metadata": {},
     "outputs": []
    },
    {
     "cell_type": "markdown",
     "metadata": {},
     "source": [
      "What did you notice? How did the number of comparisons change with different algorithms. Selection and Insertion sort are both O(nlog(n)) algorithms where as Bubble sort is much slower and is a O(n^2) algorithm. You may be wondering why would anyone want to use bubble sort. Try running the code bellow."
     ]
    },
    {
     "cell_type": "code",
     "collapsed": false,
     "input": [
      "print selectionSort([1,2,3,5,4,6,7,9,8])\n",
      "print insertionSort(1,2,3,5,4,6,7,9,8])\n",
      "print bubbleSort(1,2,3,5,4,6,7,9,8])"
     ],
     "language": "python",
     "metadata": {},
     "outputs": []
    },
    {
     "cell_type": "markdown",
     "metadata": {},
     "source": [
      "While bubble sort may be slower overall it tends to be faster with mostly sorted lists. This gives it special use cases where it can perform better than any other sorting algorithm."
     ]
    }
   ],
   "metadata": {}
  }
 ]
}